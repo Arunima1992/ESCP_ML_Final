{
 "cells": [
  {
   "cell_type": "code",
   "execution_count": 1,
   "metadata": {},
   "outputs": [],
   "source": [
    "import pandas as pd\n",
    "import numpy as np\n",
    "import nltk\n",
    "from nltk.tokenize import word_tokenize"
   ]
  },
  {
   "cell_type": "markdown",
   "metadata": {},
   "source": [
    "### We will proceed with working with a chunk of the data since the size of the dataset is too huge"
   ]
  },
  {
   "cell_type": "code",
   "execution_count": 2,
   "metadata": {},
   "outputs": [],
   "source": [
    "file = pd.read_csv('C:/Users/Arunima/OneDrive/Documents/ESCP/Python/Final/train.csv')\n",
    "extract1 = file.sample(frac=0.005, replace=True, random_state=23)\n",
    "extract1.to_excel('ML_extract.xlsx')\n",
    "df = pd.read_excel('C:/Users/Arunima/OneDrive/Documents/GitHub/ML_extract.xlsx')"
   ]
  },
  {
   "cell_type": "code",
   "execution_count": 3,
   "metadata": {},
   "outputs": [
    {
     "data": {
      "text/html": [
       "<div>\n",
       "<style scoped>\n",
       "    .dataframe tbody tr th:only-of-type {\n",
       "        vertical-align: middle;\n",
       "    }\n",
       "\n",
       "    .dataframe tbody tr th {\n",
       "        vertical-align: top;\n",
       "    }\n",
       "\n",
       "    .dataframe thead th {\n",
       "        text-align: right;\n",
       "    }\n",
       "</style>\n",
       "<table border=\"1\" class=\"dataframe\">\n",
       "  <thead>\n",
       "    <tr style=\"text-align: right;\">\n",
       "      <th></th>\n",
       "      <th>Unnamed: 0</th>\n",
       "      <th>ID</th>\n",
       "      <th>keywords</th>\n",
       "      <th>age</th>\n",
       "      <th>sex</th>\n",
       "    </tr>\n",
       "  </thead>\n",
       "  <tbody>\n",
       "    <tr>\n",
       "      <td>0</td>\n",
       "      <td>7184979</td>\n",
       "      <td>6125148</td>\n",
       "      <td>detail_offre:1;emploi:1</td>\n",
       "      <td>28</td>\n",
       "      <td>F</td>\n",
       "    </tr>\n",
       "    <tr>\n",
       "      <td>1</td>\n",
       "      <td>4846310</td>\n",
       "      <td>6922079</td>\n",
       "      <td>vaisselle:4;erreur+024+siemens:1;panne:3;e24:2...</td>\n",
       "      <td>52</td>\n",
       "      <td>M</td>\n",
       "    </tr>\n",
       "    <tr>\n",
       "      <td>2</td>\n",
       "      <td>7087144</td>\n",
       "      <td>1491107</td>\n",
       "      <td>football:1;les:1;fiasco:1;luxembourg:1;raisons...</td>\n",
       "      <td>38</td>\n",
       "      <td>M</td>\n",
       "    </tr>\n",
       "    <tr>\n",
       "      <td>3</td>\n",
       "      <td>5990345</td>\n",
       "      <td>126032</td>\n",
       "      <td>programme:1;agression:1;tout:1;civile:1;envers...</td>\n",
       "      <td>40</td>\n",
       "      <td>M</td>\n",
       "    </tr>\n",
       "    <tr>\n",
       "      <td>4</td>\n",
       "      <td>1844712</td>\n",
       "      <td>171181</td>\n",
       "      <td>zodiaque:1;jour:1;horoscope:1;psychologie:1;sc...</td>\n",
       "      <td>42</td>\n",
       "      <td>F</td>\n",
       "    </tr>\n",
       "  </tbody>\n",
       "</table>\n",
       "</div>"
      ],
      "text/plain": [
       "   Unnamed: 0       ID                                           keywords  \\\n",
       "0     7184979  6125148                            detail_offre:1;emploi:1   \n",
       "1     4846310  6922079  vaisselle:4;erreur+024+siemens:1;panne:3;e24:2...   \n",
       "2     7087144  1491107  football:1;les:1;fiasco:1;luxembourg:1;raisons...   \n",
       "3     5990345   126032  programme:1;agression:1;tout:1;civile:1;envers...   \n",
       "4     1844712   171181  zodiaque:1;jour:1;horoscope:1;psychologie:1;sc...   \n",
       "\n",
       "   age sex  \n",
       "0   28   F  \n",
       "1   52   M  \n",
       "2   38   M  \n",
       "3   40   M  \n",
       "4   42   F  "
      ]
     },
     "execution_count": 3,
     "metadata": {},
     "output_type": "execute_result"
    }
   ],
   "source": [
    "df.head()"
   ]
  },
  {
   "cell_type": "code",
   "execution_count": 4,
   "metadata": {},
   "outputs": [
    {
     "data": {
      "text/plain": [
       "Unnamed: 0       0\n",
       "ID               0\n",
       "keywords      4310\n",
       "age              0\n",
       "sex              0\n",
       "dtype: int64"
      ]
     },
     "execution_count": 4,
     "metadata": {},
     "output_type": "execute_result"
    }
   ],
   "source": [
    "df.isnull().sum()"
   ]
  },
  {
   "cell_type": "code",
   "execution_count": 5,
   "metadata": {},
   "outputs": [
    {
     "data": {
      "text/plain": [
       "dtype('int64')"
      ]
     },
     "execution_count": 5,
     "metadata": {},
     "output_type": "execute_result"
    }
   ],
   "source": [
    "df.dropna(subset=['keywords'], inplace=True)\n",
    "df['ID'].dtypes"
   ]
  },
  {
   "cell_type": "code",
   "execution_count": 6,
   "metadata": {},
   "outputs": [
    {
     "data": {
      "text/plain": [
       "dtype('O')"
      ]
     },
     "execution_count": 6,
     "metadata": {},
     "output_type": "execute_result"
    }
   ],
   "source": [
    "df['keywords'].dtypes"
   ]
  },
  {
   "cell_type": "markdown",
   "metadata": {},
   "source": [
    "### Data preprocessing \n",
    "##### We aim to modify the ''Keywords' column. \n",
    "We will do this by splitting the words and their occurences.\n",
    "Next, we will insert the words and occurences into 2 lists.\n",
    "We will remove all the stopwords from the lists"
   ]
  },
  {
   "cell_type": "code",
   "execution_count": 7,
   "metadata": {},
   "outputs": [],
   "source": [
    "from nltk.corpus import stopwords\n",
    "s = stopwords.words('french')"
   ]
  },
  {
   "cell_type": "code",
   "execution_count": 8,
   "metadata": {},
   "outputs": [],
   "source": [
    "import string\n",
    "nopunc = [char for char in df if char not in string.punctuation]"
   ]
  },
  {
   "cell_type": "code",
   "execution_count": 9,
   "metadata": {},
   "outputs": [],
   "source": [
    "def processing(x):\n",
    "    list_sub =[]\n",
    "    for item in x:\n",
    "        item = x.split(';') \n",
    "\n",
    "    for i in range (0,len(item)):\n",
    "        list_sub = list_sub + item[i].split(':')\n",
    "        \n",
    "    for i in range (1,len(list_sub)):\n",
    "        if i%2 !=0:\n",
    "            list_sub[i] = int(list_sub[i])\n",
    "            \n",
    "    integer = [x for x in list_sub if isinstance(x, int)]\n",
    "    string = [x for x in list_sub if isinstance(x, str)]\n",
    "    \n",
    "    word_list = sum([[sm] * n for sm, n in zip(string, integer)], [])\n",
    "    word_filtered_list = [x for x in word_list if not any(s.isdigit() for s in x)]\n",
    "    \n",
    "    Output = [y for y in word_filtered_list if word_list not in s]\n",
    "\n",
    "    return Output"
   ]
  },
  {
   "cell_type": "code",
   "execution_count": 10,
   "metadata": {},
   "outputs": [],
   "source": [
    "df['words'] = df[\"keywords\"].apply(processing)"
   ]
  },
  {
   "cell_type": "code",
   "execution_count": 11,
   "metadata": {},
   "outputs": [
    {
     "data": {
      "text/html": [
       "<div>\n",
       "<style scoped>\n",
       "    .dataframe tbody tr th:only-of-type {\n",
       "        vertical-align: middle;\n",
       "    }\n",
       "\n",
       "    .dataframe tbody tr th {\n",
       "        vertical-align: top;\n",
       "    }\n",
       "\n",
       "    .dataframe thead th {\n",
       "        text-align: right;\n",
       "    }\n",
       "</style>\n",
       "<table border=\"1\" class=\"dataframe\">\n",
       "  <thead>\n",
       "    <tr style=\"text-align: right;\">\n",
       "      <th></th>\n",
       "      <th>Unnamed: 0</th>\n",
       "      <th>ID</th>\n",
       "      <th>keywords</th>\n",
       "      <th>age</th>\n",
       "      <th>sex</th>\n",
       "      <th>words</th>\n",
       "    </tr>\n",
       "  </thead>\n",
       "  <tbody>\n",
       "    <tr>\n",
       "      <td>0</td>\n",
       "      <td>7184979</td>\n",
       "      <td>6125148</td>\n",
       "      <td>detail_offre:1;emploi:1</td>\n",
       "      <td>28</td>\n",
       "      <td>F</td>\n",
       "      <td>[detail_offre, emploi]</td>\n",
       "    </tr>\n",
       "    <tr>\n",
       "      <td>1</td>\n",
       "      <td>4846310</td>\n",
       "      <td>6922079</td>\n",
       "      <td>vaisselle:4;erreur+024+siemens:1;panne:3;e24:2...</td>\n",
       "      <td>52</td>\n",
       "      <td>M</td>\n",
       "      <td>[vaisselle, vaisselle, vaisselle, vaisselle, p...</td>\n",
       "    </tr>\n",
       "    <tr>\n",
       "      <td>2</td>\n",
       "      <td>7087144</td>\n",
       "      <td>1491107</td>\n",
       "      <td>football:1;les:1;fiasco:1;luxembourg:1;raisons...</td>\n",
       "      <td>38</td>\n",
       "      <td>M</td>\n",
       "      <td>[football, les, fiasco, luxembourg, raisons, a...</td>\n",
       "    </tr>\n",
       "    <tr>\n",
       "      <td>3</td>\n",
       "      <td>5990345</td>\n",
       "      <td>126032</td>\n",
       "      <td>programme:1;agression:1;tout:1;civile:1;envers...</td>\n",
       "      <td>40</td>\n",
       "      <td>M</td>\n",
       "      <td>[programme, agression, tout, civile, envers, r...</td>\n",
       "    </tr>\n",
       "    <tr>\n",
       "      <td>4</td>\n",
       "      <td>1844712</td>\n",
       "      <td>171181</td>\n",
       "      <td>zodiaque:1;jour:1;horoscope:1;psychologie:1;sc...</td>\n",
       "      <td>42</td>\n",
       "      <td>F</td>\n",
       "      <td>[zodiaque, jour, horoscope, psychologie, scorp...</td>\n",
       "    </tr>\n",
       "  </tbody>\n",
       "</table>\n",
       "</div>"
      ],
      "text/plain": [
       "   Unnamed: 0       ID                                           keywords  \\\n",
       "0     7184979  6125148                            detail_offre:1;emploi:1   \n",
       "1     4846310  6922079  vaisselle:4;erreur+024+siemens:1;panne:3;e24:2...   \n",
       "2     7087144  1491107  football:1;les:1;fiasco:1;luxembourg:1;raisons...   \n",
       "3     5990345   126032  programme:1;agression:1;tout:1;civile:1;envers...   \n",
       "4     1844712   171181  zodiaque:1;jour:1;horoscope:1;psychologie:1;sc...   \n",
       "\n",
       "   age sex                                              words  \n",
       "0   28   F                             [detail_offre, emploi]  \n",
       "1   52   M  [vaisselle, vaisselle, vaisselle, vaisselle, p...  \n",
       "2   38   M  [football, les, fiasco, luxembourg, raisons, a...  \n",
       "3   40   M  [programme, agression, tout, civile, envers, r...  \n",
       "4   42   F  [zodiaque, jour, horoscope, psychologie, scorp...  "
      ]
     },
     "execution_count": 11,
     "metadata": {},
     "output_type": "execute_result"
    }
   ],
   "source": [
    "df.head()"
   ]
  },
  {
   "cell_type": "markdown",
   "metadata": {},
   "source": [
    "### Data Preparation\n",
    "\n",
    "#### The following functions will help with the basic data preparation. We will use these functions later."
   ]
  },
  {
   "cell_type": "markdown",
   "metadata": {},
   "source": [
    "### Calculating occurence and words, and number of unique words"
   ]
  },
  {
   "cell_type": "code",
   "execution_count": 12,
   "metadata": {},
   "outputs": [],
   "source": [
    "def preparation(x):\n",
    "        \n",
    "    from collections import Counter\n",
    "    length = []\n",
    "    for i in x['words']:\n",
    "        a = len(i)+1\n",
    "        length.append(a)\n",
    "    x['Length'] = length\n",
    "    \n",
    "    Occurence = []\n",
    "    Word = []\n",
    "    for i in x['words']:\n",
    "        b = Counter(i).values()\n",
    "        c = Counter(i).keys()\n",
    "        Occurence.append(b)\n",
    "        Word.append(c)\n",
    "    x[\"Occurence\"] = Occurence\n",
    "    x[\"Word\"] = Word\n",
    "    \n",
    "    Number_Unique = []\n",
    "    for i in x.Word:\n",
    "        e = len(Counter(i).keys())\n",
    "        Number_Unique.append(e)\n",
    "    x[\"Unique_Value\"] = Number_Unique   \n",
    "    \n",
    " \n",
    "    Max = []\n",
    "    for i in x.Occurence:\n",
    "        i = max(i,default=0)\n",
    "        Max.append(i)\n",
    "    x['Max_Frequence'] = Max"
   ]
  },
  {
   "cell_type": "markdown",
   "metadata": {},
   "source": [
    "### Extracting the top words and typology"
   ]
  },
  {
   "cell_type": "code",
   "execution_count": 13,
   "metadata": {},
   "outputs": [],
   "source": [
    "def wording_preparation(x):    \n",
    "    \n",
    "    from collections import Counter\n",
    "\n",
    "    Top = []\n",
    "    for i in x['words']:\n",
    "        i = Most_Common(i)\n",
    "        Top.append(i)   \n",
    "    \n",
    "    x['Top_Word'] = Top\n",
    "    \n",
    "    Typology = []\n",
    "    for i in x['Top_Word']:\n",
    "        i = nltk.word_tokenize(i)\n",
    "        e = nltk.pos_tag(i)\n",
    "        Typology.append(e)\n",
    "\n",
    "    x['Typology'] = Typology\n",
    "\n",
    "    x['Typology'] = x['Typology'].astype(str)\n",
    "\n",
    "    Typology_2 = []\n",
    "    for i in x['Typology']:\n",
    "        i = i.split(',', 1)[1]\n",
    "        i = i[:-2]\n",
    "        Typology_2.append(i)\n",
    "        \n",
    "    x['Typology'] = Typology_2"
   ]
  },
  {
   "cell_type": "markdown",
   "metadata": {},
   "source": [
    "### Extracting Word Length"
   ]
  },
  {
   "cell_type": "code",
   "execution_count": 14,
   "metadata": {},
   "outputs": [],
   "source": [
    "from collections import Counter\n",
    "length = []\n",
    "for i in df['words']:\n",
    "    a = len(i)+1\n",
    "    length.append(a)\n",
    "\n",
    "df['Length'] = length"
   ]
  },
  {
   "cell_type": "markdown",
   "metadata": {},
   "source": [
    "### Extracting Words and Occurences"
   ]
  },
  {
   "cell_type": "code",
   "execution_count": 15,
   "metadata": {},
   "outputs": [],
   "source": [
    "Occurence = []\n",
    "Word = []\n",
    "for i in df['words']:\n",
    "    b = Counter(i).values()\n",
    "    c = Counter(i).keys()\n",
    "    Occurence.append(b)\n",
    "    Word.append(c)\n",
    "    \n",
    "\n",
    "df[\"Occurence\"] = Occurence\n",
    "df[\"Word\"] = Word"
   ]
  },
  {
   "cell_type": "markdown",
   "metadata": {},
   "source": [
    "### Extracting the Unique Values"
   ]
  },
  {
   "cell_type": "code",
   "execution_count": 16,
   "metadata": {},
   "outputs": [],
   "source": [
    "Number_Unique = []\n",
    "for i in df.Word:\n",
    "    e = len(Counter(i).keys())\n",
    "    Number_Unique.append(e) \n",
    "    \n",
    "df[\"Unique_Value\"] = Number_Unique"
   ]
  },
  {
   "cell_type": "markdown",
   "metadata": {},
   "source": [
    "### Extracting top frequencies"
   ]
  },
  {
   "cell_type": "code",
   "execution_count": 17,
   "metadata": {},
   "outputs": [],
   "source": [
    "Max = []\n",
    "for i in df.Occurence:\n",
    "    i = max(i,default=0)\n",
    "    Max.append(i)"
   ]
  },
  {
   "cell_type": "code",
   "execution_count": 18,
   "metadata": {},
   "outputs": [],
   "source": [
    "df['Max_Frequence'] = Max"
   ]
  },
  {
   "cell_type": "code",
   "execution_count": 19,
   "metadata": {},
   "outputs": [],
   "source": [
    "df = df.query('Max_Frequence > 1')"
   ]
  },
  {
   "cell_type": "markdown",
   "metadata": {},
   "source": [
    "### Extracting top words"
   ]
  },
  {
   "cell_type": "code",
   "execution_count": 20,
   "metadata": {},
   "outputs": [],
   "source": [
    "from collections import Counter\n",
    "\n",
    "def Most_Common(lst):\n",
    "    data = Counter(lst)\n",
    "    return data.most_common(1)[0][0]"
   ]
  },
  {
   "cell_type": "code",
   "execution_count": 21,
   "metadata": {},
   "outputs": [],
   "source": [
    "Top = []\n",
    "for i in df['words']:\n",
    "    i = Most_Common(i)\n",
    "    Top.append(i)"
   ]
  },
  {
   "cell_type": "code",
   "execution_count": 22,
   "metadata": {},
   "outputs": [],
   "source": [
    "df['Top_Word'] = Top"
   ]
  },
  {
   "cell_type": "markdown",
   "metadata": {},
   "source": [
    "### Extracting Typology"
   ]
  },
  {
   "cell_type": "code",
   "execution_count": 23,
   "metadata": {},
   "outputs": [],
   "source": [
    "Typology = []\n",
    "for i in df['Top_Word']:\n",
    "    i = nltk.word_tokenize(i)\n",
    "    e = nltk.pos_tag(i)\n",
    "    Typology.append(e)"
   ]
  },
  {
   "cell_type": "code",
   "execution_count": 24,
   "metadata": {},
   "outputs": [],
   "source": [
    "df['Typology'] = Typology\n",
    "df['Typology'] = df['Typology'].astype(str)"
   ]
  },
  {
   "cell_type": "code",
   "execution_count": 25,
   "metadata": {},
   "outputs": [],
   "source": [
    "Typology_2 = []\n",
    "for i in df['Typology']:\n",
    "    i = i.split(',', 1)[1]\n",
    "    i = i[:-2]\n",
    "    Typology_2.append(i)\n",
    "df['Typology'] = Typology_2"
   ]
  },
  {
   "cell_type": "markdown",
   "metadata": {},
   "source": [
    "### Modeling"
   ]
  },
  {
   "cell_type": "code",
   "execution_count": 120,
   "metadata": {},
   "outputs": [],
   "source": [
    "data = df[['age','sex', 'Unique_Value','Max_Frequence']].copy()"
   ]
  },
  {
   "cell_type": "markdown",
   "metadata": {},
   "source": [
    "### Modeling Sex with Age"
   ]
  },
  {
   "cell_type": "code",
   "execution_count": 121,
   "metadata": {},
   "outputs": [
    {
     "data": {
      "text/plain": [
       "Index(['age', 'sex', 'Unique_Value', 'Max_Frequence'], dtype='object')"
      ]
     },
     "execution_count": 121,
     "metadata": {},
     "output_type": "execute_result"
    }
   ],
   "source": [
    "data.columns"
   ]
  },
  {
   "cell_type": "code",
   "execution_count": 122,
   "metadata": {},
   "outputs": [],
   "source": [
    "X = data.loc[:, data.columns !=\"sex\"]\n",
    "y = data.loc[:, data.columns ==\"sex\"]"
   ]
  },
  {
   "cell_type": "code",
   "execution_count": 123,
   "metadata": {},
   "outputs": [],
   "source": [
    "y = pd.get_dummies(y, drop_first=True)"
   ]
  },
  {
   "cell_type": "code",
   "execution_count": 124,
   "metadata": {},
   "outputs": [],
   "source": [
    "from sklearn.model_selection import train_test_split\n",
    "X_train, X_test, y_train, y_test = train_test_split(X,y,test_size = 0.3, random_state = 23, stratify = y)"
   ]
  },
  {
   "cell_type": "code",
   "execution_count": 125,
   "metadata": {},
   "outputs": [
    {
     "name": "stderr",
     "output_type": "stream",
     "text": [
      "C:\\Users\\Arunima\\Anaconda\\lib\\site-packages\\ipykernel_launcher.py:3: DataConversionWarning: A column-vector y was passed when a 1d array was expected. Please change the shape of y to (n_samples,), for example using ravel().\n",
      "  This is separate from the ipykernel package so we can avoid doing imports until\n"
     ]
    }
   ],
   "source": [
    "from sklearn.ensemble import RandomForestClassifier\n",
    "rfc = RandomForestClassifier(random_state=0, n_estimators=100)\n",
    "rfc.fit(X_train, y_train)\n",
    "pred_rfc = rfc.predict(X_test)"
   ]
  },
  {
   "cell_type": "code",
   "execution_count": 126,
   "metadata": {},
   "outputs": [
    {
     "name": "stdout",
     "output_type": "stream",
     "text": [
      "              precision    recall  f1-score   support\n",
      "\n",
      "           0       0.51      0.51      0.51      2128\n",
      "           1       0.57      0.56      0.57      2414\n",
      "\n",
      "    accuracy                           0.54      4542\n",
      "   macro avg       0.54      0.54      0.54      4542\n",
      "weighted avg       0.54      0.54      0.54      4542\n",
      "\n"
     ]
    }
   ],
   "source": [
    "from sklearn.metrics import classification_report\n",
    "print(classification_report(y_test, pred_rfc))"
   ]
  },
  {
   "cell_type": "code",
   "execution_count": 127,
   "metadata": {},
   "outputs": [
    {
     "name": "stdout",
     "output_type": "stream",
     "text": [
      "[[1085 1043]\n",
      " [1052 1362]]\n"
     ]
    }
   ],
   "source": [
    "from sklearn.metrics import confusion_matrix\n",
    "print(confusion_matrix(y_test, pred_rfc))"
   ]
  },
  {
   "cell_type": "code",
   "execution_count": 128,
   "metadata": {},
   "outputs": [
    {
     "data": {
      "image/png": "[encoded data removed]",
      "text/plain": [
       "<Figure size 432x288 with 1 Axes>"
      ]
     },
     "metadata": {
      "needs_background": "light"
     },
     "output_type": "display_data"
    }
   ],
   "source": [
    "from sklearn.metrics import roc_auc_score \n",
    "from sklearn.metrics import roc_curve \n",
    "import matplotlib.pyplot as plt\n",
    "\n",
    "logit_roc_auc = roc_auc_score(y, rfc.predict(X)) \n",
    "\n",
    "plt.figure() \n",
    "fpr, tpr, thresholds = roc_curve(y, rfc.predict_proba(X)[:,1]) \n",
    "plt.plot(fpr, tpr, label='Random Forest (area = %0.2f)' % logit_roc_auc) \n",
    "plt.plot([0, 1], [0, 1],'r--') \n",
    "plt.xlim([0.0, 1.0]) \n",
    "plt.ylim([0.0, 1.05]) \n",
    "plt.xlabel('FPR') \n",
    "plt.ylabel('TPR') \n",
    "plt.title('ROC') \n",
    "plt.legend(loc=\"lower right\") \n",
    "plt.savefig('Log_ROC') \n",
    "plt.show()"
   ]
  },
  {
   "cell_type": "markdown",
   "metadata": {},
   "source": [
    "### Model Sex without Age Var"
   ]
  },
  {
   "cell_type": "code",
   "execution_count": 77,
   "metadata": {},
   "outputs": [],
   "source": [
    "data_Sex_w_Age = df[['sex', 'Length', 'Unique_Value', 'Max_Frequence']].copy()\n",
    "#data_Sex_w_Age = pd.get_dummies(data_Sex_w_Age, columns=['sex'])"
   ]
  },
  {
   "cell_type": "code",
   "execution_count": 80,
   "metadata": {},
   "outputs": [
    {
     "data": {
      "text/html": [
       "<div>\n",
       "<style scoped>\n",
       "    .dataframe tbody tr th:only-of-type {\n",
       "        vertical-align: middle;\n",
       "    }\n",
       "\n",
       "    .dataframe tbody tr th {\n",
       "        vertical-align: top;\n",
       "    }\n",
       "\n",
       "    .dataframe thead th {\n",
       "        text-align: right;\n",
       "    }\n",
       "</style>\n",
       "<table border=\"1\" class=\"dataframe\">\n",
       "  <thead>\n",
       "    <tr style=\"text-align: right;\">\n",
       "      <th></th>\n",
       "      <th>sex</th>\n",
       "      <th>Length</th>\n",
       "      <th>Unique_Value</th>\n",
       "      <th>Max_Frequence</th>\n",
       "    </tr>\n",
       "  </thead>\n",
       "  <tbody>\n",
       "    <tr>\n",
       "      <td>1</td>\n",
       "      <td>M</td>\n",
       "      <td>34</td>\n",
       "      <td>11</td>\n",
       "      <td>4</td>\n",
       "    </tr>\n",
       "    <tr>\n",
       "      <td>3</td>\n",
       "      <td>M</td>\n",
       "      <td>181</td>\n",
       "      <td>122</td>\n",
       "      <td>10</td>\n",
       "    </tr>\n",
       "    <tr>\n",
       "      <td>8</td>\n",
       "      <td>M</td>\n",
       "      <td>854</td>\n",
       "      <td>428</td>\n",
       "      <td>27</td>\n",
       "    </tr>\n",
       "    <tr>\n",
       "      <td>9</td>\n",
       "      <td>M</td>\n",
       "      <td>14</td>\n",
       "      <td>11</td>\n",
       "      <td>2</td>\n",
       "    </tr>\n",
       "    <tr>\n",
       "      <td>14</td>\n",
       "      <td>F</td>\n",
       "      <td>13</td>\n",
       "      <td>9</td>\n",
       "      <td>3</td>\n",
       "    </tr>\n",
       "  </tbody>\n",
       "</table>\n",
       "</div>"
      ],
      "text/plain": [
       "   sex  Length  Unique_Value  Max_Frequence\n",
       "1    M      34            11              4\n",
       "3    M     181           122             10\n",
       "8    M     854           428             27\n",
       "9    M      14            11              2\n",
       "14   F      13             9              3"
      ]
     },
     "execution_count": 80,
     "metadata": {},
     "output_type": "execute_result"
    }
   ],
   "source": [
    "data_Sex_w_Age.head()"
   ]
  },
  {
   "cell_type": "code",
   "execution_count": 82,
   "metadata": {},
   "outputs": [],
   "source": [
    "X_w_Age = data_Sex_w_Age.loc[:, data_Sex_w_Age.columns !=\"sex\"]\n",
    "y_w_Age = data_Sex_w_Age.loc[:, data_Sex_w_Age.columns ==\"sex\"]"
   ]
  },
  {
   "cell_type": "code",
   "execution_count": 83,
   "metadata": {},
   "outputs": [],
   "source": [
    "y_w_Age= pd.get_dummies(y_w_Age, drop_first=True)"
   ]
  },
  {
   "cell_type": "code",
   "execution_count": 85,
   "metadata": {},
   "outputs": [
    {
     "data": {
      "text/html": [
       "<div>\n",
       "<style scoped>\n",
       "    .dataframe tbody tr th:only-of-type {\n",
       "        vertical-align: middle;\n",
       "    }\n",
       "\n",
       "    .dataframe tbody tr th {\n",
       "        vertical-align: top;\n",
       "    }\n",
       "\n",
       "    .dataframe thead th {\n",
       "        text-align: right;\n",
       "    }\n",
       "</style>\n",
       "<table border=\"1\" class=\"dataframe\">\n",
       "  <thead>\n",
       "    <tr style=\"text-align: right;\">\n",
       "      <th></th>\n",
       "      <th>Length</th>\n",
       "      <th>Unique_Value</th>\n",
       "      <th>Max_Frequence</th>\n",
       "    </tr>\n",
       "  </thead>\n",
       "  <tbody>\n",
       "    <tr>\n",
       "      <td>1</td>\n",
       "      <td>34</td>\n",
       "      <td>11</td>\n",
       "      <td>4</td>\n",
       "    </tr>\n",
       "    <tr>\n",
       "      <td>3</td>\n",
       "      <td>181</td>\n",
       "      <td>122</td>\n",
       "      <td>10</td>\n",
       "    </tr>\n",
       "    <tr>\n",
       "      <td>8</td>\n",
       "      <td>854</td>\n",
       "      <td>428</td>\n",
       "      <td>27</td>\n",
       "    </tr>\n",
       "    <tr>\n",
       "      <td>9</td>\n",
       "      <td>14</td>\n",
       "      <td>11</td>\n",
       "      <td>2</td>\n",
       "    </tr>\n",
       "    <tr>\n",
       "      <td>14</td>\n",
       "      <td>13</td>\n",
       "      <td>9</td>\n",
       "      <td>3</td>\n",
       "    </tr>\n",
       "  </tbody>\n",
       "</table>\n",
       "</div>"
      ],
      "text/plain": [
       "    Length  Unique_Value  Max_Frequence\n",
       "1       34            11              4\n",
       "3      181           122             10\n",
       "8      854           428             27\n",
       "9       14            11              2\n",
       "14      13             9              3"
      ]
     },
     "execution_count": 85,
     "metadata": {},
     "output_type": "execute_result"
    }
   ],
   "source": [
    "X_w_Age.head()"
   ]
  },
  {
   "cell_type": "code",
   "execution_count": 86,
   "metadata": {},
   "outputs": [],
   "source": [
    "from sklearn.model_selection import train_test_split\n",
    "X_train, X_test, y_train, y_test = train_test_split(X_w_Age,y_w_Age,test_size = 0.3, random_state = 0)"
   ]
  },
  {
   "cell_type": "code",
   "execution_count": 89,
   "metadata": {},
   "outputs": [
    {
     "name": "stderr",
     "output_type": "stream",
     "text": [
      "C:\\Users\\Arunima\\Anaconda\\lib\\site-packages\\ipykernel_launcher.py:3: DataConversionWarning: A column-vector y was passed when a 1d array was expected. Please change the shape of y to (n_samples,), for example using ravel().\n",
      "  This is separate from the ipykernel package so we can avoid doing imports until\n"
     ]
    }
   ],
   "source": [
    "from sklearn.ensemble import RandomForestClassifier\n",
    "rfc_w_Age = RandomForestClassifier(random_state=0, n_estimators=100)\n",
    "rfc_w_Age.fit(X_train, y_train)\n",
    "pred_rfc_w_Age = rfc_w_Age.predict(X_test)"
   ]
  },
  {
   "cell_type": "code",
   "execution_count": 90,
   "metadata": {},
   "outputs": [
    {
     "name": "stdout",
     "output_type": "stream",
     "text": [
      "              precision    recall  f1-score   support\n",
      "\n",
      "           0       0.52      0.47      0.49      2127\n",
      "           1       0.57      0.62      0.59      2415\n",
      "\n",
      "    accuracy                           0.55      4542\n",
      "   macro avg       0.54      0.54      0.54      4542\n",
      "weighted avg       0.55      0.55      0.55      4542\n",
      "\n"
     ]
    }
   ],
   "source": [
    "from sklearn.metrics import classification_report\n",
    "print(classification_report(y_test, pred_rfc_w_Age))"
   ]
  },
  {
   "cell_type": "code",
   "execution_count": 91,
   "metadata": {},
   "outputs": [
    {
     "data": {
      "image/png": "[encoded data removed]",
      "text/plain": [
       "<Figure size 432x288 with 1 Axes>"
      ]
     },
     "metadata": {
      "needs_background": "light"
     },
     "output_type": "display_data"
    }
   ],
   "source": [
    "from sklearn.metrics import roc_auc_score \n",
    "from sklearn.metrics import roc_curve \n",
    "import matplotlib.pyplot as plt\n",
    "\n",
    "logit_roc_auc = roc_auc_score(y_w_Age, rfc_w_Age.predict(X_w_Age)) \n",
    "\n",
    "plt.figure() \n",
    "fpr, tpr, thresholds = roc_curve(y_w_Age, rfc_w_Age.predict_proba(X_w_Age)[:,1]) \n",
    "plt.plot(fpr, tpr, label='Random Forest (area = %0.2f)' % logit_roc_auc) \n",
    "plt.plot([0, 1], [0, 1],'r--') \n",
    "plt.xlim([0.0, 1.0]) \n",
    "plt.ylim([0.0, 1.05]) \n",
    "plt.xlabel('FPR') \n",
    "plt.ylabel('TPR') \n",
    "plt.title('ROC') \n",
    "plt.legend(loc=\"lower right\") \n",
    "plt.savefig('Log_ROC') \n",
    "plt.show()"
   ]
  },
  {
   "cell_type": "markdown",
   "metadata": {},
   "source": [
    "### Modeling Age with Sex"
   ]
  },
  {
   "cell_type": "code",
   "execution_count": 92,
   "metadata": {},
   "outputs": [],
   "source": [
    "data_Age = df[['age','sex','Unique_Value','Max_Frequence', 'Typology']].copy()"
   ]
  },
  {
   "cell_type": "code",
   "execution_count": 93,
   "metadata": {},
   "outputs": [],
   "source": [
    "data_Age = pd.get_dummies(data_Age, columns=['sex','Typology'])"
   ]
  },
  {
   "cell_type": "code",
   "execution_count": 94,
   "metadata": {},
   "outputs": [],
   "source": [
    "X_AGE = data_Age.loc[:, data_Age.columns !=\"age\"]\n",
    "y_AGE = data_Age.loc[:, data_Age.columns ==\"age\"]"
   ]
  },
  {
   "cell_type": "code",
   "execution_count": 95,
   "metadata": {},
   "outputs": [],
   "source": [
    "from sklearn.model_selection import train_test_split\n",
    "X_train_AGE, X_test_AGE, y_train_AGE, y_test_AGE = train_test_split(X_AGE,y_AGE,test_size = 0.3, random_state=23)"
   ]
  },
  {
   "cell_type": "code",
   "execution_count": 96,
   "metadata": {},
   "outputs": [],
   "source": [
    "from sklearn.linear_model import LinearRegression\n",
    "regressor = LinearRegression ()\n",
    "regressor.fit(X_train_AGE,y_train_AGE)\n",
    "y_pred = regressor.predict(X_test_AGE)"
   ]
  },
  {
   "cell_type": "code",
   "execution_count": 97,
   "metadata": {},
   "outputs": [
    {
     "data": {
      "text/plain": [
       "172.3578412561838"
      ]
     },
     "execution_count": 97,
     "metadata": {},
     "output_type": "execute_result"
    }
   ],
   "source": [
    "from sklearn.metrics import mean_squared_error\n",
    "mean_squared_error(y_test_AGE, y_pred)"
   ]
  },
  {
   "cell_type": "markdown",
   "metadata": {},
   "source": [
    "### Modeling Age without Sex Var"
   ]
  },
  {
   "cell_type": "code",
   "execution_count": 98,
   "metadata": {},
   "outputs": [],
   "source": [
    "data_w_Sex = df[['age','Unique_Value','Max_Frequence']].copy()"
   ]
  },
  {
   "cell_type": "code",
   "execution_count": 99,
   "metadata": {},
   "outputs": [],
   "source": [
    "X_w_SEX = data_w_Sex.loc[:, data_w_Sex.columns !=\"age\"]\n",
    "y_w_SEX = data_w_Sex.loc[:, data_w_Sex.columns ==\"age\"]"
   ]
  },
  {
   "cell_type": "code",
   "execution_count": 100,
   "metadata": {},
   "outputs": [],
   "source": [
    "from sklearn.model_selection import train_test_split\n",
    "X_train_w_AGE, X_test_w_AGE, y_train_w_AGE, y_test_w_AGE = train_test_split(X_w_SEX,y_w_SEX,test_size = 0.3, random_state=23)"
   ]
  },
  {
   "cell_type": "code",
   "execution_count": 101,
   "metadata": {},
   "outputs": [],
   "source": [
    "from sklearn.linear_model import LinearRegression\n",
    "regressor = LinearRegression ()\n",
    "regressor.fit(X_train_w_AGE,y_train_w_AGE)\n",
    "y_pred_w_SEX = regressor.predict(X_test_w_AGE)"
   ]
  },
  {
   "cell_type": "code",
   "execution_count": null,
   "metadata": {},
   "outputs": [],
   "source": [
    "from sklearn.metrics import mean_squared_error\n",
    "mean_squared_error(y_test_w_AGE, y_pred_w_SEX)"
   ]
  },
  {
   "cell_type": "markdown",
   "metadata": {},
   "source": [
    "### Testing"
   ]
  },
  {
   "cell_type": "code",
   "execution_count": 102,
   "metadata": {},
   "outputs": [],
   "source": [
    "test_file=pd.read_csv('C:/Users/Arunima/OneDrive/Documents/ESCP/Python/Final/test.csv')"
   ]
  },
  {
   "cell_type": "code",
   "execution_count": 103,
   "metadata": {},
   "outputs": [],
   "source": [
    "test1 = test_file.sample(frac=0.015, replace=True, random_state=23)"
   ]
  },
  {
   "cell_type": "code",
   "execution_count": 104,
   "metadata": {},
   "outputs": [],
   "source": [
    "test1.to_excel('test1.xlsx')"
   ]
  },
  {
   "cell_type": "code",
   "execution_count": 105,
   "metadata": {},
   "outputs": [],
   "source": [
    "df_test = pd.read_excel(\"C:/Users/Arunima/OneDrive/Documents/GitHub/test1.xlsx\")"
   ]
  },
  {
   "cell_type": "code",
   "execution_count": 106,
   "metadata": {},
   "outputs": [],
   "source": [
    "df_test.dropna(subset=['keywords'], inplace=True)"
   ]
  },
  {
   "cell_type": "code",
   "execution_count": 107,
   "metadata": {},
   "outputs": [],
   "source": [
    "from nltk.corpus import stopwords\n",
    "c = stopwords.words('french')"
   ]
  },
  {
   "cell_type": "code",
   "execution_count": 108,
   "metadata": {},
   "outputs": [],
   "source": [
    "import string\n",
    "nopunc = [char for char in df_test if char not in string.punctuation]"
   ]
  },
  {
   "cell_type": "code",
   "execution_count": 109,
   "metadata": {},
   "outputs": [],
   "source": [
    "df_test['words'] = df_test[\"keywords\"].apply(processing)"
   ]
  },
  {
   "cell_type": "code",
   "execution_count": 110,
   "metadata": {},
   "outputs": [],
   "source": [
    "preparation(df_test)"
   ]
  },
  {
   "cell_type": "code",
   "execution_count": 111,
   "metadata": {},
   "outputs": [],
   "source": [
    "df_test = df_test.query('Max_Frequence > 1')"
   ]
  },
  {
   "cell_type": "code",
   "execution_count": 112,
   "metadata": {},
   "outputs": [],
   "source": [
    "wording_preparation(df_test)"
   ]
  },
  {
   "cell_type": "code",
   "execution_count": 113,
   "metadata": {},
   "outputs": [],
   "source": [
    "Test_Age = df_test[['Unique_Value', 'Max_Frequence']].copy()"
   ]
  },
  {
   "cell_type": "code",
   "execution_count": 114,
   "metadata": {},
   "outputs": [
    {
     "data": {
      "text/plain": [
       "Unique_Value     int64\n",
       "Max_Frequence    int64\n",
       "dtype: object"
      ]
     },
     "execution_count": 114,
     "metadata": {},
     "output_type": "execute_result"
    }
   ],
   "source": [
    "Test_Age.dtypes"
   ]
  },
  {
   "cell_type": "code",
   "execution_count": 115,
   "metadata": {},
   "outputs": [],
   "source": [
    "prediction = regressor.predict(Test_Age)"
   ]
  },
  {
   "cell_type": "code",
   "execution_count": 116,
   "metadata": {},
   "outputs": [
    {
     "data": {
      "text/plain": [
       "0     45.962882\n",
       "4     45.938339\n",
       "7     46.329232\n",
       "10    46.104176\n",
       "13    46.161706\n",
       "Name: age, dtype: float64"
      ]
     },
     "execution_count": 116,
     "metadata": {},
     "output_type": "execute_result"
    }
   ],
   "source": [
    "Test_Age['age'] = prediction\n",
    "Test_Age['age'].head()"
   ]
  },
  {
   "cell_type": "code",
   "execution_count": 117,
   "metadata": {},
   "outputs": [],
   "source": [
    "Test_Sex = df_test[['Unique_Value','Max_Frequence']].copy()"
   ]
  },
  {
   "cell_type": "code",
   "execution_count": 118,
   "metadata": {},
   "outputs": [],
   "source": [
    "Test_Sex['age'] = Test_Age['age']"
   ]
  },
  {
   "cell_type": "code",
   "execution_count": 131,
   "metadata": {},
   "outputs": [],
   "source": [
    "predictions_gender = pd.DataFrame(rfc.predict(Test_Sex))"
   ]
  },
  {
   "cell_type": "code",
   "execution_count": 134,
   "metadata": {},
   "outputs": [],
   "source": [
    "Test_Sex['sex'] = predictions_gender"
   ]
  },
  {
   "cell_type": "code",
   "execution_count": 135,
   "metadata": {},
   "outputs": [
    {
     "data": {
      "text/html": [
       "<div>\n",
       "<style scoped>\n",
       "    .dataframe tbody tr th:only-of-type {\n",
       "        vertical-align: middle;\n",
       "    }\n",
       "\n",
       "    .dataframe tbody tr th {\n",
       "        vertical-align: top;\n",
       "    }\n",
       "\n",
       "    .dataframe thead th {\n",
       "        text-align: right;\n",
       "    }\n",
       "</style>\n",
       "<table border=\"1\" class=\"dataframe\">\n",
       "  <thead>\n",
       "    <tr style=\"text-align: right;\">\n",
       "      <th></th>\n",
       "      <th>Unique_Value</th>\n",
       "      <th>Max_Frequence</th>\n",
       "      <th>age</th>\n",
       "      <th>sex</th>\n",
       "    </tr>\n",
       "  </thead>\n",
       "  <tbody>\n",
       "    <tr>\n",
       "      <td>0</td>\n",
       "      <td>4</td>\n",
       "      <td>4</td>\n",
       "      <td>45.962882</td>\n",
       "      <td>0.0</td>\n",
       "    </tr>\n",
       "    <tr>\n",
       "      <td>4</td>\n",
       "      <td>4</td>\n",
       "      <td>2</td>\n",
       "      <td>45.938339</td>\n",
       "      <td>0.0</td>\n",
       "    </tr>\n",
       "    <tr>\n",
       "      <td>7</td>\n",
       "      <td>32</td>\n",
       "      <td>2</td>\n",
       "      <td>46.329232</td>\n",
       "      <td>1.0</td>\n",
       "    </tr>\n",
       "    <tr>\n",
       "      <td>10</td>\n",
       "      <td>15</td>\n",
       "      <td>3</td>\n",
       "      <td>46.104176</td>\n",
       "      <td>0.0</td>\n",
       "    </tr>\n",
       "    <tr>\n",
       "      <td>13</td>\n",
       "      <td>20</td>\n",
       "      <td>2</td>\n",
       "      <td>46.161706</td>\n",
       "      <td>1.0</td>\n",
       "    </tr>\n",
       "  </tbody>\n",
       "</table>\n",
       "</div>"
      ],
      "text/plain": [
       "    Unique_Value  Max_Frequence        age  sex\n",
       "0              4              4  45.962882  0.0\n",
       "4              4              2  45.938339  0.0\n",
       "7             32              2  46.329232  1.0\n",
       "10            15              3  46.104176  0.0\n",
       "13            20              2  46.161706  1.0"
      ]
     },
     "execution_count": 135,
     "metadata": {},
     "output_type": "execute_result"
    }
   ],
   "source": [
    "Test_Sex.head()"
   ]
  },
  {
   "cell_type": "code",
   "execution_count": 137,
   "metadata": {},
   "outputs": [],
   "source": [
    "#Replacing 0 or 1 with M or F\n",
    "\n",
    "sex = []\n",
    "\n",
    "for i in Test_Sex.sex:\n",
    "    if i == 0:\n",
    "        sex.append('F')\n",
    "    else:\n",
    "        sex.append('M')\n",
    "        \n",
    "Test_Sex['sex'] = sex"
   ]
  },
  {
   "cell_type": "code",
   "execution_count": 138,
   "metadata": {},
   "outputs": [
    {
     "name": "stderr",
     "output_type": "stream",
     "text": [
      "C:\\Users\\Arunima\\Anaconda\\lib\\site-packages\\ipykernel_launcher.py:4: SettingWithCopyWarning: \n",
      "A value is trying to be set on a copy of a slice from a DataFrame.\n",
      "Try using .loc[row_indexer,col_indexer] = value instead\n",
      "\n",
      "See the caveats in the documentation: http://pandas.pydata.org/pandas-docs/stable/user_guide/indexing.html#returning-a-view-versus-a-copy\n",
      "  after removing the cwd from sys.path.\n"
     ]
    }
   ],
   "source": [
    "#Exporting the output\n",
    "\n",
    "Results = Test_Sex[['sex','age']]\n",
    "Results['ID'] = df_test['ID']"
   ]
  },
  {
   "cell_type": "code",
   "execution_count": 139,
   "metadata": {},
   "outputs": [
    {
     "data": {
      "text/html": [
       "<div>\n",
       "<style scoped>\n",
       "    .dataframe tbody tr th:only-of-type {\n",
       "        vertical-align: middle;\n",
       "    }\n",
       "\n",
       "    .dataframe tbody tr th {\n",
       "        vertical-align: top;\n",
       "    }\n",
       "\n",
       "    .dataframe thead th {\n",
       "        text-align: right;\n",
       "    }\n",
       "</style>\n",
       "<table border=\"1\" class=\"dataframe\">\n",
       "  <thead>\n",
       "    <tr style=\"text-align: right;\">\n",
       "      <th></th>\n",
       "      <th>sex</th>\n",
       "      <th>age</th>\n",
       "      <th>ID</th>\n",
       "    </tr>\n",
       "  </thead>\n",
       "  <tbody>\n",
       "    <tr>\n",
       "      <td>0</td>\n",
       "      <td>F</td>\n",
       "      <td>45.962882</td>\n",
       "      <td>2990676</td>\n",
       "    </tr>\n",
       "    <tr>\n",
       "      <td>4</td>\n",
       "      <td>F</td>\n",
       "      <td>45.938339</td>\n",
       "      <td>1844713</td>\n",
       "    </tr>\n",
       "    <tr>\n",
       "      <td>7</td>\n",
       "      <td>M</td>\n",
       "      <td>46.329232</td>\n",
       "      <td>1469901</td>\n",
       "    </tr>\n",
       "    <tr>\n",
       "      <td>10</td>\n",
       "      <td>F</td>\n",
       "      <td>46.104176</td>\n",
       "      <td>1723995</td>\n",
       "    </tr>\n",
       "    <tr>\n",
       "      <td>13</td>\n",
       "      <td>M</td>\n",
       "      <td>46.161706</td>\n",
       "      <td>1422861</td>\n",
       "    </tr>\n",
       "  </tbody>\n",
       "</table>\n",
       "</div>"
      ],
      "text/plain": [
       "   sex        age       ID\n",
       "0    F  45.962882  2990676\n",
       "4    F  45.938339  1844713\n",
       "7    M  46.329232  1469901\n",
       "10   F  46.104176  1723995\n",
       "13   M  46.161706  1422861"
      ]
     },
     "execution_count": 139,
     "metadata": {},
     "output_type": "execute_result"
    }
   ],
   "source": [
    "Results.head()"
   ]
  },
  {
   "cell_type": "code",
   "execution_count": 140,
   "metadata": {},
   "outputs": [],
   "source": [
    "Results.to_csv('Results.csv')"
   ]
  }
 ],
 "metadata": {
  "kernelspec": {
   "display_name": "Python 3",
   "language": "python",
   "name": "python3"
  },
  "language_info": {
   "codemirror_mode": {
    "name": "ipython",
    "version": 3
   },
   "file_extension": ".py",
   "mimetype": "text/x-python",
   "name": "python",
   "nbconvert_exporter": "python",
   "pygments_lexer": "ipython3",
   "version": "3.7.4"
  }
 },
 "nbformat": 4,
 "nbformat_minor": 2
}
